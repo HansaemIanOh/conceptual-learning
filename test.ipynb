{
 "cells": [
  {
   "cell_type": "code",
   "execution_count": 19,
   "metadata": {},
   "outputs": [],
   "source": [
    "config = {\n",
    "    \"model1\": {\n",
    "        \"token\": 'sentence1',\n",
    "        \"attn_dim\": 256,\n",
    "        \"mlp_dim\": 1024,\n",
    "        \"num_heads\": 8,\n",
    "        \"num_layers\": 6,\n",
    "        \"dropout\": 0.1,\n",
    "        \"attn_dropout\": 0.1\n",
    "    },\n",
    "    \"model2\": {\n",
    "        \"token\": 'sentence2',\n",
    "        \"attn_dim\": 256,\n",
    "        \"mlp_dim\": 1024,\n",
    "        \"num_heads\": 8,\n",
    "        \"num_layers\": 6,\n",
    "        \"dropout\": 0.1,\n",
    "        \"attn_dropout\": 0.1\n",
    "    }\n",
    "}"
   ]
  },
  {
   "cell_type": "code",
   "execution_count": 7,
   "metadata": {},
   "outputs": [
    {
     "name": "stdout",
     "output_type": "stream",
     "text": [
      "256\n"
     ]
    }
   ],
   "source": [
    "# print(config['model1']['attn_dim'])\n",
    "print(config.get('model1').get('attn_dim'))"
   ]
  },
  {
   "cell_type": "code",
   "execution_count": 22,
   "metadata": {},
   "outputs": [
    {
     "name": "stdout",
     "output_type": "stream",
     "text": [
      "['sentence1', 'sentence2']\n"
     ]
    }
   ],
   "source": [
    "tokens = [model['token'] for model in config.values()]\n",
    "print(tokens)"
   ]
  },
  {
   "cell_type": "markdown",
   "metadata": {},
   "source": [
    "# Check tokens"
   ]
  },
  {
   "cell_type": "code",
   "execution_count": 8,
   "metadata": {},
   "outputs": [
    {
     "name": "stderr",
     "output_type": "stream",
     "text": [
      "/home/lab2/anaconda3/envs/torch118/lib/python3.9/site-packages/tqdm/auto.py:21: TqdmWarning: IProgress not found. Please update jupyter and ipywidgets. See https://ipywidgets.readthedocs.io/en/stable/user_install.html\n",
      "  from .autonotebook import tqdm as notebook_tqdm\n",
      "/home/lab2/anaconda3/envs/torch118/lib/python3.9/site-packages/huggingface_hub/file_download.py:1150: FutureWarning: `resume_download` is deprecated and will be removed in version 1.0.0. Downloads always resume when possible. If you want to force a new download, use `force_download=True`.\n",
      "  warnings.warn(\n",
      "/home/lab2/anaconda3/envs/torch118/lib/python3.9/site-packages/huggingface_hub/file_download.py:1150: FutureWarning: `resume_download` is deprecated and will be removed in version 1.0.0. Downloads always resume when possible. If you want to force a new download, use `force_download=True`.\n",
      "  warnings.warn(\n"
     ]
    },
    {
     "name": "stdout",
     "output_type": "stream",
     "text": [
      "ID: 39064, Token: quant\n",
      "ID: 26709, Token: itative\n",
      "ID: 18004, Token: Ġbiology\n"
     ]
    }
   ],
   "source": [
    "from transformers import AutoTokenizer\n",
    "import torch\n",
    "tokenizer_name = \"facebook/bart-base\"\n",
    "tokenizer = AutoTokenizer.from_pretrained(tokenizer_name)\n",
    "def tokenize_function(text):\n",
    "    return tokenizer(text, padding=False, truncation=True, add_special_tokens=False)\n",
    "tokens = tokenize_function('quantitative biology').get('input_ids')\n",
    "for id in tokens:\n",
    "    token = tokenizer.convert_ids_to_tokens([id])[0]\n",
    "    print(f\"ID: {id}, Token: {token}\")\n"
   ]
  },
  {
   "cell_type": "code",
   "execution_count": 24,
   "metadata": {},
   "outputs": [
    {
     "name": "stderr",
     "output_type": "stream",
     "text": [
      "/home/lab2/anaconda3/envs/torch118/lib/python3.9/site-packages/huggingface_hub/file_download.py:1150: FutureWarning: `resume_download` is deprecated and will be removed in version 1.0.0. Downloads always resume when possible. If you want to force a new download, use `force_download=True`.\n",
      "  warnings.warn(\n"
     ]
    },
    {
     "name": "stdout",
     "output_type": "stream",
     "text": [
      "['sentence1', 'sentence2']\n"
     ]
    }
   ],
   "source": [
    "from transformers import AutoTokenizer\n",
    "import torch\n",
    "tokenizer_name = \"facebook/bart-base\"\n",
    "tokenizer = AutoTokenizer.from_pretrained(tokenizer_name)\n",
    "\n",
    "tokens = []\n",
    "for models in config:\n",
    "    token = config.get(models).get('token')\n",
    "    tokens.append(token)\n",
    "print(tokens)"
   ]
  },
  {
   "cell_type": "code",
   "execution_count": 25,
   "metadata": {},
   "outputs": [],
   "source": [
    "def tokenize_and_pad(tokens, max_length):\n",
    "    tokenizer = AutoTokenizer.from_pretrained(\"facebook/bart-base\")\n",
    "    \n",
    "    # 토큰화 및 패딩\n",
    "    tokenized = [tokenizer.encode(token, add_special_tokens=False, \n",
    "                                  max_length=max_length, \n",
    "                                  padding='max_length', \n",
    "                                  truncation=True) \n",
    "                 for token in tokens]\n",
    "    \n",
    "    # 텐서로 변환\n",
    "    return torch.tensor(tokenized)"
   ]
  },
  {
   "cell_type": "code",
   "execution_count": 27,
   "metadata": {},
   "outputs": [
    {
     "name": "stdout",
     "output_type": "stream",
     "text": [
      "tensor([[19530,  4086,   134],\n",
      "        [19530,  4086,   176]])\n"
     ]
    }
   ],
   "source": [
    "result = tokenize_and_pad(tokens, 3)\n",
    "print(result)"
   ]
  },
  {
   "cell_type": "code",
   "execution_count": 1,
   "metadata": {},
   "outputs": [],
   "source": [
    "from torch import Tensor\n",
    "import torch"
   ]
  },
  {
   "cell_type": "code",
   "execution_count": 14,
   "metadata": {},
   "outputs": [],
   "source": [
    "def apply_mask(\n",
    "    tensor: Tensor,\n",
    "    mask: Tensor\n",
    ") -> Tensor:\n",
    "    return tensor + mask"
   ]
  },
  {
   "cell_type": "code",
   "execution_count": 17,
   "metadata": {},
   "outputs": [
    {
     "name": "stdout",
     "output_type": "stream",
     "text": [
      "tensor([[  1,   3,   1,   3,   1],\n",
      "        [  5,   1,   1, 676,   1]])\n",
      "tensor([[1., 3., 1., -inf, -inf],\n",
      "        [5., 1., -inf, -inf, -inf]])\n"
     ]
    }
   ],
   "source": [
    "original_tensor = torch.tensor([[1, 3, 1, 3, 1],\n",
    "                                [5, 1, 1, 676, 1]])\n",
    "\n",
    "new_mask = torch.tensor([[0., 0., 0., float('-inf'), float('-inf')],\n",
    "                         [0., 0., float('-inf'), float('-inf'), float('-inf')]])\n",
    "\n",
    "result = apply_mask(original_tensor, new_mask)\n",
    "print(original_tensor)\n",
    "print(result)"
   ]
  },
  {
   "cell_type": "code",
   "execution_count": 3,
   "metadata": {},
   "outputs": [
    {
     "name": "stderr",
     "output_type": "stream",
     "text": [
      "/home/lab2/anaconda3/envs/torch118/lib/python3.12/site-packages/datasets/load.py:2562: FutureWarning: 'ignore_verifications' was deprecated in favor of 'verification_mode' in version 2.9.1 and will be removed in 3.0.0.\n",
      "You can remove this warning by passing 'verification_mode=no_checks' instead.\n",
      "  warnings.warn(\n",
      "Generating train split: 2551074 examples [01:30, 28337.57 examples/s]                      \n"
     ]
    },
    {
     "ename": "AttributeError",
     "evalue": "'DatasetDict' object has no attribute 'info'",
     "output_type": "error",
     "traceback": [
      "\u001b[0;31m---------------------------------------------------------------------------\u001b[0m",
      "\u001b[0;31mAttributeError\u001b[0m                            Traceback (most recent call last)",
      "Cell \u001b[0;32mIn[3], line 3\u001b[0m\n\u001b[1;32m      1\u001b[0m \u001b[38;5;28;01mfrom\u001b[39;00m \u001b[38;5;21;01mdatasets\u001b[39;00m \u001b[38;5;28;01mimport\u001b[39;00m load_dataset\n\u001b[1;32m      2\u001b[0m dataset \u001b[38;5;241m=\u001b[39m load_dataset(\u001b[38;5;124m\"\u001b[39m\u001b[38;5;124marxiv_dataset\u001b[39m\u001b[38;5;124m\"\u001b[39m, data_dir\u001b[38;5;241m=\u001b[39m\u001b[38;5;124m\"\u001b[39m\u001b[38;5;124mdata\u001b[39m\u001b[38;5;124m\"\u001b[39m, ignore_verifications\u001b[38;5;241m=\u001b[39m\u001b[38;5;28;01mTrue\u001b[39;00m)\n\u001b[0;32m----> 3\u001b[0m \u001b[38;5;28mprint\u001b[39m(\u001b[43mdataset\u001b[49m\u001b[38;5;241;43m.\u001b[39;49m\u001b[43minfo\u001b[49m)\n",
      "\u001b[0;31mAttributeError\u001b[0m: 'DatasetDict' object has no attribute 'info'"
     ]
    }
   ],
   "source": [
    "from datasets import load_dataset\n",
    "dataset = load_dataset(\"arxiv_dataset\", data_dir=\"data\", ignore_verifications=True)\n",
    "print(dataset.info)"
   ]
  },
  {
   "cell_type": "code",
   "execution_count": 9,
   "metadata": {},
   "outputs": [
    {
     "name": "stdout",
     "output_type": "stream",
     "text": [
      "Dataset({\n",
      "    features: ['id', 'submitter', 'authors', 'title', 'comments', 'journal-ref', 'doi', 'report-no', 'categories', 'license', 'abstract', 'update_date'],\n",
      "    num_rows: 2551074\n",
      "})\n"
     ]
    }
   ],
   "source": [
    "# print(dataset)\n",
    "print(dataset.get('train'))"
   ]
  }
 ],
 "metadata": {
  "kernelspec": {
   "display_name": "torch118",
   "language": "python",
   "name": "python3"
  },
  "language_info": {
   "codemirror_mode": {
    "name": "ipython",
    "version": 3
   },
   "file_extension": ".py",
   "mimetype": "text/x-python",
   "name": "python",
   "nbconvert_exporter": "python",
   "pygments_lexer": "ipython3",
   "version": "3.12.4"
  }
 },
 "nbformat": 4,
 "nbformat_minor": 2
}
